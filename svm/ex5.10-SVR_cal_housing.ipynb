{
 "cells": [
  {
   "cell_type": "code",
   "execution_count": 99,
   "metadata": {
    "ExecuteTime": {
     "end_time": "2019-11-09T10:41:27.318724Z",
     "start_time": "2019-11-09T10:41:27.305144Z"
    }
   },
   "outputs": [],
   "source": [
    "import pandas as pd\n",
    "import numpy as np\n",
    "\n",
    "from sklearn.svm import LinearSVR, SVR\n",
    "from sklearn.datasets import fetch_california_housing\n",
    "from sklearn.pipeline import Pipeline\n",
    "from sklearn.preprocessing import StandardScaler\n",
    "from sklearn.model_selection import train_test_split, RandomizedSearchCV\n",
    "from sklearn.metrics import mean_squared_error\n",
    "\n",
    "from scipy.stats import reciprocal, uniform\n",
    "\n",
    "import matplotlib.pyplot as plt"
   ]
  },
  {
   "cell_type": "code",
   "execution_count": 81,
   "metadata": {
    "ExecuteTime": {
     "end_time": "2019-11-09T10:12:58.246262Z",
     "start_time": "2019-11-09T10:12:58.164551Z"
    }
   },
   "outputs": [],
   "source": [
    "# Get the cal housing data\n",
    "cal_housing = fetch_california_housing()"
   ]
  },
  {
   "cell_type": "code",
   "execution_count": 83,
   "metadata": {
    "ExecuteTime": {
     "end_time": "2019-11-09T10:13:02.320322Z",
     "start_time": "2019-11-09T10:13:02.314193Z"
    }
   },
   "outputs": [],
   "source": [
    "X = cal_housing[\"data\"]\n",
    "y = cal_housing[\"target\"]\n",
    "feature_names = cal_housing[\"feature_names\"]"
   ]
  },
  {
   "cell_type": "code",
   "execution_count": 84,
   "metadata": {
    "ExecuteTime": {
     "end_time": "2019-11-09T10:13:02.691393Z",
     "start_time": "2019-11-09T10:13:02.678031Z"
    }
   },
   "outputs": [
    {
     "data": {
      "text/plain": [
       "(20640, 8)"
      ]
     },
     "execution_count": 84,
     "metadata": {},
     "output_type": "execute_result"
    }
   ],
   "source": [
    "X.shape"
   ]
  },
  {
   "cell_type": "code",
   "execution_count": null,
   "metadata": {},
   "outputs": [],
   "source": []
  },
  {
   "cell_type": "code",
   "execution_count": 117,
   "metadata": {
    "ExecuteTime": {
     "end_time": "2019-11-10T09:31:12.022999Z",
     "start_time": "2019-11-10T09:31:12.013756Z"
    }
   },
   "outputs": [],
   "source": [
    "X_train, X_test, y_train, y_test = train_test_split(X, y, random_state=42, test_size=0.2)"
   ]
  },
  {
   "cell_type": "code",
   "execution_count": 118,
   "metadata": {
    "ExecuteTime": {
     "end_time": "2019-11-10T09:31:13.207255Z",
     "start_time": "2019-11-10T09:31:12.988037Z"
    }
   },
   "outputs": [
    {
     "data": {
      "image/png": "[encoded data removed]",
      "text/plain": [
       "<Figure size 432x288 with 1 Axes>"
      ]
     },
     "metadata": {
      "needs_background": "light"
     },
     "output_type": "display_data"
    }
   ],
   "source": [
    "plt.hist(y_train)\n",
    "plt.show()"
   ]
  },
  {
   "cell_type": "code",
   "execution_count": 119,
   "metadata": {
    "ExecuteTime": {
     "end_time": "2019-11-10T09:31:14.009220Z",
     "start_time": "2019-11-10T09:31:14.000672Z"
    }
   },
   "outputs": [
    {
     "data": {
      "text/plain": [
       "['MedInc',\n",
       " 'HouseAge',\n",
       " 'AveRooms',\n",
       " 'AveBedrms',\n",
       " 'Population',\n",
       " 'AveOccup',\n",
       " 'Latitude',\n",
       " 'Longitude']"
      ]
     },
     "execution_count": 119,
     "metadata": {},
     "output_type": "execute_result"
    }
   ],
   "source": [
    "feature_names"
   ]
  },
  {
   "cell_type": "markdown",
   "metadata": {},
   "source": [
    "# Try out several models with default settings"
   ]
  },
  {
   "cell_type": "code",
   "execution_count": 97,
   "metadata": {
    "ExecuteTime": {
     "end_time": "2019-11-09T10:25:50.057540Z",
     "start_time": "2019-11-09T10:21:29.381215Z"
    }
   },
   "outputs": [
    {
     "name": "stderr",
     "output_type": "stream",
     "text": [
      "/anaconda2/envs/handson/lib/python3.6/site-packages/sklearn/svm/base.py:929: ConvergenceWarning: Liblinear failed to converge, increase the number of iterations.\n",
      "  \"the number of iterations.\", ConvergenceWarning)\n"
     ]
    },
    {
     "name": "stdout",
     "output_type": "stream",
     "text": [
      "LinearSVR rmse: 1.0599898978152265\n",
      "SVR rmse: 0.5781151181039502\n",
      "SVR rmse: 0.8362591137865663\n"
     ]
    }
   ],
   "source": [
    "model_list = [\n",
    "    LinearSVR(random_state=42),\n",
    "    SVR(),\n",
    "    SVR(kernel=\"poly\"),\n",
    "]\n",
    "\n",
    "for model in model_list:\n",
    "    lin_pipe = Pipeline([\n",
    "        (\"scaler\", StandardScaler()),\n",
    "        (\"regression_model\", model)        \n",
    "    ])\n",
    "    lin_pipe.fit(X_train, y_train)\n",
    "\n",
    "    y_pred = lin_pipe.predict(X_train)\n",
    "    lin_rmse = np.sqrt(mean_squared_error(y_train, y_pred))\n",
    "    print(f\"{model.__class__.__name__} rmse: {lin_rmse}\")\n"
   ]
  },
  {
   "cell_type": "markdown",
   "metadata": {
    "ExecuteTime": {
     "end_time": "2019-11-06T12:17:34.829372Z",
     "start_time": "2019-11-06T12:17:34.821202Z"
    }
   },
   "source": [
    "# Try optimising hyperparameters for best models\n",
    "Looks like the SVR model with the rbf kernel performs the best so far"
   ]
  },
  {
   "cell_type": "code",
   "execution_count": 123,
   "metadata": {
    "ExecuteTime": {
     "end_time": "2019-11-10T12:14:31.144418Z",
     "start_time": "2019-11-10T10:49:26.315709Z"
    }
   },
   "outputs": [
    {
     "name": "stdout",
     "output_type": "stream",
     "text": [
      "Fitting 3 folds for each of 100 candidates, totalling 300 fits\n",
      "[CV] C=4.745401188473625, gamma=0.07969454818643928 ..................\n",
      "[LibSVM]"
     ]
    },
    {
     "name": "stderr",
     "output_type": "stream",
     "text": [
      "[Parallel(n_jobs=1)]: Using backend SequentialBackend with 1 concurrent workers.\n"
     ]
    },
    {
     "name": "stdout",
     "output_type": "stream",
     "text": [
      "[CV] ... C=4.745401188473625, gamma=0.07969454818643928, total=  16.3s\n",
      "[CV] C=4.745401188473625, gamma=0.07969454818643928 ..................\n",
      "[LibSVM]"
     ]
    },
    {
     "name": "stderr",
     "output_type": "stream",
     "text": [
      "[Parallel(n_jobs=1)]: Done   1 out of   1 | elapsed:   16.3s remaining:    0.0s\n"
     ]
    },
    {
     "name": "stdout",
     "output_type": "stream",
     "text": [
      "[CV] ... C=4.745401188473625, gamma=0.07969454818643928, total=  15.0s\n",
      "[CV] C=4.745401188473625, gamma=0.07969454818643928 ..................\n",
      "[LibSVM][CV] ... C=4.745401188473625, gamma=0.07969454818643928, total=  14.8s\n",
      "[CV] C=8.31993941811405, gamma=0.015751320499779724 ..................\n",
      "[LibSVM][CV] ... C=8.31993941811405, gamma=0.015751320499779724, total=  30.2s\n",
      "[CV] C=8.31993941811405, gamma=0.015751320499779724 ..................\n",
      "[LibSVM][CV] ... C=8.31993941811405, gamma=0.015751320499779724, total=  28.2s\n",
      "[CV] C=8.31993941811405, gamma=0.015751320499779724 ..................\n",
      "[LibSVM][CV] ... C=8.31993941811405, gamma=0.015751320499779724, total=  29.8s\n",
      "[CV] C=2.560186404424365, gamma=0.002051110418843397 .................\n",
      "[LibSVM][CV] .. C=2.560186404424365, gamma=0.002051110418843397, total=   7.6s\n",
      "[CV] C=2.560186404424365, gamma=0.002051110418843397 .................\n",
      "[LibSVM][CV] .. C=2.560186404424365, gamma=0.002051110418843397, total=   7.6s\n",
      "[CV] C=2.560186404424365, gamma=0.002051110418843397 .................\n",
      "[LibSVM][CV] .. C=2.560186404424365, gamma=0.002051110418843397, total=   7.8s\n",
      "[CV] C=1.5808361216819946, gamma=0.05399484409787431 .................\n",
      "[LibSVM][CV] .. C=1.5808361216819946, gamma=0.05399484409787431, total=  10.9s\n",
      "[CV] C=1.5808361216819946, gamma=0.05399484409787431 .................\n",
      "[LibSVM][CV] .. C=1.5808361216819946, gamma=0.05399484409787431, total=  11.1s\n",
      "[CV] C=1.5808361216819946, gamma=0.05399484409787431 .................\n",
      "[LibSVM][CV] .. C=1.5808361216819946, gamma=0.05399484409787431, total=  11.6s\n",
      "[CV] C=7.011150117432088, gamma=0.026070247583707663 .................\n",
      "[LibSVM][CV] .. C=7.011150117432088, gamma=0.026070247583707663, total=  24.8s\n",
      "[CV] C=7.011150117432088, gamma=0.026070247583707663 .................\n",
      "[LibSVM][CV] .. C=7.011150117432088, gamma=0.026070247583707663, total=  24.0s\n",
      "[CV] C=7.011150117432088, gamma=0.026070247583707663 .................\n",
      "[LibSVM][CV] .. C=7.011150117432088, gamma=0.026070247583707663, total=  25.2s\n",
      "[CV] C=1.2058449429580245, gamma=0.0870602087830485 ..................\n",
      "[LibSVM][CV] ... C=1.2058449429580245, gamma=0.0870602087830485, total=   9.3s\n",
      "[CV] C=1.2058449429580245, gamma=0.0870602087830485 ..................\n",
      "[LibSVM][CV] ... C=1.2058449429580245, gamma=0.0870602087830485, total=   9.5s\n",
      "[CV] C=1.2058449429580245, gamma=0.0870602087830485 ..................\n",
      "[LibSVM][CV] ... C=1.2058449429580245, gamma=0.0870602087830485, total=   9.7s\n",
      "[CV] C=9.324426408004218, gamma=0.0026587543983272693 ................\n",
      "[LibSVM][CV] . C=9.324426408004218, gamma=0.0026587543983272693, total=  15.4s\n",
      "[CV] C=9.324426408004218, gamma=0.0026587543983272693 ................\n",
      "[LibSVM][CV] . C=9.324426408004218, gamma=0.0026587543983272693, total=  15.1s\n",
      "[CV] C=9.324426408004218, gamma=0.0026587543983272693 ................\n",
      "[LibSVM][CV] . C=9.324426408004218, gamma=0.0026587543983272693, total=  14.9s\n",
      "[CV] C=2.818249672071006, gamma=0.0023270677083837795 ................\n",
      "[LibSVM][CV] . C=2.818249672071006, gamma=0.0023270677083837795, total=   8.4s\n",
      "[CV] C=2.818249672071006, gamma=0.0023270677083837795 ................\n",
      "[LibSVM][CV] . C=2.818249672071006, gamma=0.0023270677083837795, total=   8.2s\n",
      "[CV] C=2.818249672071006, gamma=0.0023270677083837795 ................\n",
      "[LibSVM][CV] . C=2.818249672071006, gamma=0.0023270677083837795, total=   8.3s\n",
      "[CV] C=4.042422429595377, gamma=0.011207606211860567 .................\n",
      "[LibSVM][CV] .. C=4.042422429595377, gamma=0.011207606211860567, total=  15.9s\n",
      "[CV] C=4.042422429595377, gamma=0.011207606211860567 .................\n",
      "[LibSVM][CV] .. C=4.042422429595377, gamma=0.011207606211860567, total=  14.4s\n",
      "[CV] C=4.042422429595377, gamma=0.011207606211860567 .................\n",
      "[LibSVM][CV] .. C=4.042422429595377, gamma=0.011207606211860567, total=  16.0s\n",
      "[CV] C=5.319450186421157, gamma=0.003823475224675185 .................\n",
      "[LibSVM][CV] .. C=5.319450186421157, gamma=0.003823475224675185, total=  12.4s\n",
      "[CV] C=5.319450186421157, gamma=0.003823475224675185 .................\n",
      "[LibSVM][CV] .. C=5.319450186421157, gamma=0.003823475224675185, total=  12.3s\n",
      "[CV] C=5.319450186421157, gamma=0.003823475224675185 .................\n",
      "[LibSVM][CV] .. C=5.319450186421157, gamma=0.003823475224675185, total=  11.9s\n",
      "[CV] C=7.118528947223795, gamma=0.0019010245319870352 ................\n",
      "[LibSVM][CV] . C=7.118528947223795, gamma=0.0019010245319870352, total=  11.5s\n",
      "[CV] C=7.118528947223795, gamma=0.0019010245319870352 ................\n",
      "[LibSVM][CV] . C=7.118528947223795, gamma=0.0019010245319870352, total=  11.5s\n",
      "[CV] C=7.118528947223795, gamma=0.0019010245319870352 ................\n",
      "[LibSVM][CV] . C=7.118528947223795, gamma=0.0019010245319870352, total=  11.9s\n",
      "[CV] C=3.9214464853521815, gamma=0.005404103854647327 ................\n",
      "[LibSVM][CV] . C=3.9214464853521815, gamma=0.005404103854647327, total=  11.0s\n",
      "[CV] C=3.9214464853521815, gamma=0.005404103854647327 ................\n",
      "[LibSVM][CV] . C=3.9214464853521815, gamma=0.005404103854647327, total=  10.8s\n",
      "[CV] C=3.9214464853521815, gamma=0.005404103854647327 ................\n",
      "[LibSVM][CV] . C=3.9214464853521815, gamma=0.005404103854647327, total=  10.6s\n",
      "[CV] C=5.56069984217036, gamma=0.03718364180573207 ...................\n",
      "[LibSVM][CV] .... C=5.56069984217036, gamma=0.03718364180573207, total=  19.0s\n",
      "[CV] C=5.56069984217036, gamma=0.03718364180573207 ...................\n",
      "[LibSVM][CV] .... C=5.56069984217036, gamma=0.03718364180573207, total=  20.8s\n",
      "[CV] C=5.56069984217036, gamma=0.03718364180573207 ...................\n",
      "[LibSVM][CV] .... C=5.56069984217036, gamma=0.03718364180573207, total=  19.9s\n",
      "[CV] C=2.996737821583597, gamma=0.010677482709481347 .................\n",
      "[LibSVM][CV] .. C=2.996737821583597, gamma=0.010677482709481347, total=  12.8s\n",
      "[CV] C=2.996737821583597, gamma=0.010677482709481347 .................\n",
      "[LibSVM][CV] .. C=2.996737821583597, gamma=0.010677482709481347, total=  11.5s\n",
      "[CV] C=2.996737821583597, gamma=0.010677482709481347 .................\n",
      "[LibSVM][CV] .. C=2.996737821583597, gamma=0.010677482709481347, total=  11.9s\n",
      "[CV] C=6.924145688620425, gamma=0.0012385137298860929 ................\n",
      "[LibSVM][CV] . C=6.924145688620425, gamma=0.0012385137298860929, total=   9.6s\n",
      "[CV] C=6.924145688620425, gamma=0.0012385137298860929 ................\n",
      "[LibSVM][CV] . C=6.924145688620425, gamma=0.0012385137298860929, total=   9.4s\n",
      "[CV] C=6.924145688620425, gamma=0.0012385137298860929 ................\n",
      "[LibSVM][CV] . C=6.924145688620425, gamma=0.0012385137298860929, total=   9.5s\n",
      "[CV] C=7.075448519014383, gamma=0.0021930485556643686 ................\n",
      "[LibSVM][CV] . C=7.075448519014383, gamma=0.0021930485556643686, total=  11.5s\n",
      "[CV] C=7.075448519014383, gamma=0.0021930485556643686 ................\n",
      "[LibSVM][CV] . C=7.075448519014383, gamma=0.0021930485556643686, total=  11.7s\n",
      "[CV] C=7.075448519014383, gamma=0.0021930485556643686 ................\n",
      "[LibSVM][CV] . C=7.075448519014383, gamma=0.0021930485556643686, total=  11.0s\n",
      "[CV] C=1.6505159298527952, gamma=0.07902619549708226 .................\n",
      "[LibSVM][CV] .. C=1.6505159298527952, gamma=0.07902619549708226, total=  10.2s\n",
      "[CV] C=1.6505159298527952, gamma=0.07902619549708226 .................\n",
      "[LibSVM][CV] .. C=1.6505159298527952, gamma=0.07902619549708226, total=  10.2s\n",
      "[CV] C=1.6505159298527952, gamma=0.07902619549708226 .................\n",
      "[LibSVM][CV] .. C=1.6505159298527952, gamma=0.07902619549708226, total=  10.3s\n",
      "[CV] C=10.656320330745594, gamma=0.04138040112561014 .................\n",
      "[LibSVM][CV] .. C=10.656320330745594, gamma=0.04138040112561014, total=  18.8s\n",
      "[CV] C=10.656320330745594, gamma=0.04138040112561014 .................\n",
      "[LibSVM][CV] .. C=10.656320330745594, gamma=0.04138040112561014, total=  18.2s\n",
      "[CV] C=10.656320330745594, gamma=0.04138040112561014 .................\n",
      "[LibSVM][CV] .. C=10.656320330745594, gamma=0.04138040112561014, total=  20.1s\n",
      "[CV] C=4.046137691733707, gamma=0.0015679933916723007 ................\n",
      "[LibSVM][CV] . C=4.046137691733707, gamma=0.0015679933916723007, total=   7.8s\n",
      "[CV] C=4.046137691733707, gamma=0.0015679933916723007 ................\n",
      "[LibSVM][CV] . C=4.046137691733707, gamma=0.0015679933916723007, total=   8.1s\n",
      "[CV] C=4.046137691733707, gamma=0.0015679933916723007 ................\n"
     ]
    },
    {
     "name": "stdout",
     "output_type": "stream",
     "text": [
      "[LibSVM][CV] . C=4.046137691733707, gamma=0.0015679933916723007, total=   8.1s\n",
      "[CV] C=7.842330265121569, gamma=0.007591104805282692 .................\n",
      "[LibSVM][CV] .. C=7.842330265121569, gamma=0.007591104805282692, total=  20.2s\n",
      "[CV] C=7.842330265121569, gamma=0.007591104805282692 .................\n",
      "[LibSVM][CV] .. C=7.842330265121569, gamma=0.007591104805282692, total=  19.3s\n",
      "[CV] C=7.842330265121569, gamma=0.007591104805282692 .................\n",
      "[LibSVM][CV] .. C=7.842330265121569, gamma=0.007591104805282692, total=  20.5s\n",
      "[CV] C=2.2203823484477883, gamma=0.009780337016659405 ................\n",
      "[LibSVM][CV] . C=2.2203823484477883, gamma=0.009780337016659405, total=   7.9s\n",
      "[CV] C=2.2203823484477883, gamma=0.009780337016659405 ................\n",
      "[LibSVM][CV] . C=2.2203823484477883, gamma=0.009780337016659405, total=   8.1s\n",
      "[CV] C=2.2203823484477883, gamma=0.009780337016659405 ................\n",
      "[LibSVM][CV] . C=2.2203823484477883, gamma=0.009780337016659405, total=   8.1s\n",
      "[CV] C=1.343885211152184, gamma=0.06586289317583108 ..................\n",
      "[LibSVM][CV] ... C=1.343885211152184, gamma=0.06586289317583108, total=   9.1s\n",
      "[CV] C=1.343885211152184, gamma=0.06586289317583108 ..................\n",
      "[LibSVM][CV] ... C=1.343885211152184, gamma=0.06586289317583108, total=   9.0s\n",
      "[CV] C=1.343885211152184, gamma=0.06586289317583108 ..................\n",
      "[LibSVM][CV] ... C=1.343885211152184, gamma=0.06586289317583108, total=   9.4s\n",
      "[CV] C=3.587799816000169, gamma=0.02113705944064572 ..................\n",
      "[LibSVM][CV] ... C=3.587799816000169, gamma=0.02113705944064572, total=  17.2s\n",
      "[CV] C=3.587799816000169, gamma=0.02113705944064572 ..................\n",
      "[LibSVM][CV] ... C=3.587799816000169, gamma=0.02113705944064572, total=  16.2s\n",
      "[CV] C=3.587799816000169, gamma=0.02113705944064572 ..................\n",
      "[LibSVM][CV] ... C=3.587799816000169, gamma=0.02113705944064572, total=  16.9s\n",
      "[CV] C=4.11711076089411, gamma=0.010968217207529518 ..................\n",
      "[LibSVM][CV] ... C=4.11711076089411, gamma=0.010968217207529518, total=  13.7s\n",
      "[CV] C=4.11711076089411, gamma=0.010968217207529518 ..................\n",
      "[LibSVM][CV] ... C=4.11711076089411, gamma=0.010968217207529518, total=  14.7s\n",
      "[CV] C=4.11711076089411, gamma=0.010968217207529518 ..................\n",
      "[LibSVM][CV] ... C=4.11711076089411, gamma=0.010968217207529518, total=  14.7s\n",
      "[CV] C=6.4671027934327965, gamma=0.0023426581058204037 ...............\n",
      "[LibSVM][CV]  C=6.4671027934327965, gamma=0.0023426581058204037, total=  10.8s\n",
      "[CV] C=6.4671027934327965, gamma=0.0023426581058204037 ...............\n",
      "[LibSVM][CV]  C=6.4671027934327965, gamma=0.0023426581058204037, total=  11.0s\n",
      "[CV] C=6.4671027934327965, gamma=0.0023426581058204037 ...............\n",
      "[LibSVM][CV]  C=6.4671027934327965, gamma=0.0023426581058204037, total=  10.6s\n",
      "[CV] C=10.695846277645586, gamma=0.03550304858128306 .................\n",
      "[LibSVM][CV] .. C=10.695846277645586, gamma=0.03550304858128306, total=  22.3s\n",
      "[CV] C=10.695846277645586, gamma=0.03550304858128306 .................\n",
      "[LibSVM][CV] .. C=10.695846277645586, gamma=0.03550304858128306, total=  21.7s\n",
      "[CV] C=10.695846277645586, gamma=0.03550304858128306 .................\n",
      "[LibSVM][CV] .. C=10.695846277645586, gamma=0.03550304858128306, total=  22.4s\n",
      "[CV] C=10.394989415641891, gamma=0.06161049539380964 .................\n",
      "[LibSVM][CV] .. C=10.394989415641891, gamma=0.06161049539380964, total=  15.1s\n",
      "[CV] C=10.394989415641891, gamma=0.06161049539380964 .................\n",
      "[LibSVM][CV] .. C=10.394989415641891, gamma=0.06161049539380964, total=  14.6s\n",
      "[CV] C=10.394989415641891, gamma=0.06161049539380964 .................\n",
      "[LibSVM][CV] .. C=10.394989415641891, gamma=0.06161049539380964, total=  17.0s\n",
      "[CV] C=6.978999788110851, gamma=0.06978281265126032 ..................\n",
      "[LibSVM][CV] ... C=6.978999788110851, gamma=0.06978281265126032, total=  14.5s\n",
      "[CV] C=6.978999788110851, gamma=0.06978281265126032 ..................\n",
      "[LibSVM][CV] ... C=6.978999788110851, gamma=0.06978281265126032, total=  14.2s\n",
      "[CV] C=6.978999788110851, gamma=0.06978281265126032 ..................\n",
      "[LibSVM][CV] ... C=6.978999788110851, gamma=0.06978281265126032, total=  13.8s\n",
      "[CV] C=1.884925020519195, gamma=0.002465844721448737 .................\n",
      "[LibSVM][CV] .. C=1.884925020519195, gamma=0.002465844721448737, total=   6.8s\n",
      "[CV] C=1.884925020519195, gamma=0.002465844721448737 .................\n",
      "[LibSVM][CV] .. C=1.884925020519195, gamma=0.002465844721448737, total=   6.8s\n",
      "[CV] C=1.884925020519195, gamma=0.002465844721448737 .................\n",
      "[LibSVM][CV] .. C=1.884925020519195, gamma=0.002465844721448737, total=   6.7s\n",
      "[CV] C=1.4522728891053807, gamma=0.004473636174621263 ................\n",
      "[LibSVM][CV] . C=1.4522728891053807, gamma=0.004473636174621263, total=   9.4s\n",
      "[CV] C=1.4522728891053807, gamma=0.004473636174621263 ................\n",
      "[LibSVM][CV] . C=1.4522728891053807, gamma=0.004473636174621263, total=  13.0s\n",
      "[CV] C=1.4522728891053807, gamma=0.004473636174621263 ................\n",
      "[LibSVM][CV] . C=1.4522728891053807, gamma=0.004473636174621263, total=  11.0s\n",
      "[CV] C=4.88677289689482, gamma=0.003488976654890365 ..................\n",
      "[LibSVM][CV] ... C=4.88677289689482, gamma=0.003488976654890365, total=  16.3s\n",
      "[CV] C=4.88677289689482, gamma=0.003488976654890365 ..................\n",
      "[LibSVM][CV] ... C=4.88677289689482, gamma=0.003488976654890365, total=  16.9s\n",
      "[CV] C=4.88677289689482, gamma=0.003488976654890365 ..................\n",
      "[LibSVM][CV] ... C=4.88677289689482, gamma=0.003488976654890365, total=  16.9s\n",
      "[CV] C=9.287375091519294, gamma=0.00517019178636699 ..................\n",
      "[LibSVM][CV] ... C=9.287375091519294, gamma=0.00517019178636699, total=  28.1s\n",
      "[CV] C=9.287375091519294, gamma=0.00517019178636699 ..................\n",
      "[LibSVM][CV] ... C=9.287375091519294, gamma=0.00517019178636699, total=  27.8s\n",
      "[CV] C=9.287375091519294, gamma=0.00517019178636699 ..................\n",
      "[LibSVM][CV] ... C=9.287375091519294, gamma=0.00517019178636699, total=  29.0s\n",
      "[CV] C=3.8093450968738076, gamma=0.012172847081122425 ................\n",
      "[LibSVM][CV] . C=3.8093450968738076, gamma=0.012172847081122425, total=  22.2s\n",
      "[CV] C=3.8093450968738076, gamma=0.012172847081122425 ................\n",
      "[LibSVM][CV] . C=3.8093450968738076, gamma=0.012172847081122425, total=  25.3s\n",
      "[CV] C=3.8093450968738076, gamma=0.012172847081122425 ................\n",
      "[LibSVM][CV] . C=3.8093450968738076, gamma=0.012172847081122425, total=  21.1s\n",
      "[CV] C=2.4092422497476265, gamma=0.040215545266902866 ................\n",
      "[LibSVM][CV] . C=2.4092422497476265, gamma=0.040215545266902866, total=  21.9s\n",
      "[CV] C=2.4092422497476265, gamma=0.040215545266902866 ................\n",
      "[LibSVM][CV] . C=2.4092422497476265, gamma=0.040215545266902866, total=  21.4s\n",
      "[CV] C=2.4092422497476265, gamma=0.040215545266902866 ................\n",
      "[LibSVM][CV] . C=2.4092422497476265, gamma=0.040215545266902866, total=  20.2s\n",
      "[CV] C=1.7455064367977082, gamma=0.09413993046829941 .................\n",
      "[LibSVM][CV] .. C=1.7455064367977082, gamma=0.09413993046829941, total=  19.5s\n",
      "[CV] C=1.7455064367977082, gamma=0.09413993046829941 .................\n",
      "[LibSVM][CV] .. C=1.7455064367977082, gamma=0.09413993046829941, total=  18.9s\n",
      "[CV] C=1.7455064367977082, gamma=0.09413993046829941 .................\n",
      "[LibSVM][CV] .. C=1.7455064367977082, gamma=0.09413993046829941, total=  17.2s\n",
      "[CV] C=8.722447692966574, gamma=0.0024970737145052716 ................\n",
      "[LibSVM][CV] . C=8.722447692966574, gamma=0.0024970737145052716, total=  21.1s\n",
      "[CV] C=8.722447692966574, gamma=0.0024970737145052716 ................\n",
      "[LibSVM][CV] . C=8.722447692966574, gamma=0.0024970737145052716, total=  20.3s\n",
      "[CV] C=8.722447692966574, gamma=0.0024970737145052716 ................\n",
      "[LibSVM][CV] . C=8.722447692966574, gamma=0.0024970737145052716, total=  19.1s\n",
      "[CV] C=1.055221171236024, gamma=0.042748694552952146 .................\n",
      "[LibSVM][CV] .. C=1.055221171236024, gamma=0.042748694552952146, total=  12.3s\n",
      "[CV] C=1.055221171236024, gamma=0.042748694552952146 .................\n",
      "[LibSVM][CV] .. C=1.055221171236024, gamma=0.042748694552952146, total=  12.5s\n",
      "[CV] C=1.055221171236024, gamma=0.042748694552952146 .................\n",
      "[LibSVM][CV] .. C=1.055221171236024, gamma=0.042748694552952146, total=  12.0s\n",
      "[CV] C=8.068573438476172, gamma=0.028708753481954667 .................\n"
     ]
    },
    {
     "name": "stdout",
     "output_type": "stream",
     "text": [
      "[LibSVM][CV] .. C=8.068573438476172, gamma=0.028708753481954667, total=  34.0s\n",
      "[CV] C=8.068573438476172, gamma=0.028708753481954667 .................\n",
      "[LibSVM][CV] .. C=8.068573438476172, gamma=0.028708753481954667, total=  37.6s\n",
      "[CV] C=8.068573438476172, gamma=0.028708753481954667 .................\n",
      "[LibSVM][CV] .. C=8.068573438476172, gamma=0.028708753481954667, total=  38.6s\n",
      "[CV] C=8.712703466859457, gamma=0.001406336677771817 .................\n",
      "[LibSVM][CV] .. C=8.712703466859457, gamma=0.001406336677771817, total=  16.4s\n",
      "[CV] C=8.712703466859457, gamma=0.001406336677771817 .................\n",
      "[LibSVM][CV] .. C=8.712703466859457, gamma=0.001406336677771817, total=  16.1s\n",
      "[CV] C=8.712703466859457, gamma=0.001406336677771817 .................\n",
      "[LibSVM][CV] .. C=8.712703466859457, gamma=0.001406336677771817, total=  17.9s\n",
      "[CV] C=4.584657285442726, gamma=0.001705053926026929 .................\n",
      "[LibSVM][CV] .. C=4.584657285442726, gamma=0.001705053926026929, total=  12.8s\n",
      "[CV] C=4.584657285442726, gamma=0.001705053926026929 .................\n",
      "[LibSVM][CV] .. C=4.584657285442726, gamma=0.001705053926026929, total=  13.0s\n",
      "[CV] C=4.584657285442726, gamma=0.001705053926026929 .................\n",
      "[LibSVM][CV] .. C=4.584657285442726, gamma=0.001705053926026929, total=  11.9s\n",
      "[CV] C=9.631034258755935, gamma=0.01764396768338154 ..................\n",
      "[LibSVM][CV] ... C=9.631034258755935, gamma=0.01764396768338154, total=  46.3s\n",
      "[CV] C=9.631034258755935, gamma=0.01764396768338154 ..................\n",
      "[LibSVM][CV] ... C=9.631034258755935, gamma=0.01764396768338154, total=  45.0s\n",
      "[CV] C=9.631034258755935, gamma=0.01764396768338154 ..................\n",
      "[LibSVM][CV] ... C=9.631034258755935, gamma=0.01764396768338154, total=  46.5s\n",
      "[CV] C=4.308980248526492, gamma=0.0013400367243354798 ................\n",
      "[LibSVM][CV] . C=4.308980248526492, gamma=0.0013400367243354798, total=  10.3s\n",
      "[CV] C=4.308980248526492, gamma=0.0013400367243354798 ................\n",
      "[LibSVM][CV] . C=4.308980248526492, gamma=0.0013400367243354798, total=   8.5s\n",
      "[CV] C=4.308980248526492, gamma=0.0013400367243354798 ................\n",
      "[LibSVM][CV] . C=4.308980248526492, gamma=0.0013400367243354798, total=   9.1s\n",
      "[CV] C=4.109823217156622, gamma=0.004470608546778489 .................\n",
      "[LibSVM][CV] .. C=4.109823217156622, gamma=0.004470608546778489, total=  10.5s\n",
      "[CV] C=4.109823217156622, gamma=0.004470608546778489 .................\n",
      "[LibSVM][CV] .. C=4.109823217156622, gamma=0.004470608546778489, total=  10.9s\n",
      "[CV] C=4.109823217156622, gamma=0.004470608546778489 .................\n",
      "[LibSVM][CV] .. C=4.109823217156622, gamma=0.004470608546778489, total=  12.0s\n",
      "[CV] C=8.29606178338064, gamma=0.01884147692154508 ...................\n",
      "[LibSVM][CV] .... C=8.29606178338064, gamma=0.01884147692154508, total=  27.3s\n",
      "[CV] C=8.29606178338064, gamma=0.01884147692154508 ...................\n",
      "[LibSVM][CV] .... C=8.29606178338064, gamma=0.01884147692154508, total=  27.4s\n",
      "[CV] C=8.29606178338064, gamma=0.01884147692154508 ...................\n",
      "[LibSVM][CV] .... C=8.29606178338064, gamma=0.01884147692154508, total=  26.0s\n",
      "[CV] C=9.872127425763265, gamma=0.008798929749689016 .................\n",
      "[LibSVM][CV] .. C=9.872127425763265, gamma=0.008798929749689016, total=  26.4s\n",
      "[CV] C=9.872127425763265, gamma=0.008798929749689016 .................\n",
      "[LibSVM][CV] .. C=9.872127425763265, gamma=0.008798929749689016, total=  25.4s\n",
      "[CV] C=9.872127425763265, gamma=0.008798929749689016 .................\n",
      "[LibSVM][CV] .. C=9.872127425763265, gamma=0.008798929749689016, total=  25.6s\n",
      "[CV] C=2.195942459383017, gamma=0.026698666742744587 .................\n",
      "[LibSVM][CV] .. C=2.195942459383017, gamma=0.026698666742744587, total=  12.9s\n",
      "[CV] C=2.195942459383017, gamma=0.026698666742744587 .................\n",
      "[LibSVM][CV] .. C=2.195942459383017, gamma=0.026698666742744587, total=  11.2s\n",
      "[CV] C=2.195942459383017, gamma=0.026698666742744587 .................\n",
      "[LibSVM][CV] .. C=2.195942459383017, gamma=0.026698666742744587, total=  11.2s\n",
      "[CV] C=8.607850486168974, gamma=0.013260331922696544 .................\n",
      "[LibSVM][CV] .. C=8.607850486168974, gamma=0.013260331922696544, total=  26.5s\n",
      "[CV] C=8.607850486168974, gamma=0.013260331922696544 .................\n",
      "[LibSVM][CV] .. C=8.607850486168974, gamma=0.013260331922696544, total=  26.2s\n",
      "[CV] C=8.607850486168974, gamma=0.013260331922696544 .................\n",
      "[LibSVM][CV] .. C=8.607850486168974, gamma=0.013260331922696544, total=  26.4s\n",
      "[CV] C=8.70967179954561, gamma=0.009718319944817394 ..................\n",
      "[LibSVM][CV] ... C=8.70967179954561, gamma=0.009718319944817394, total=  24.8s\n",
      "[CV] C=8.70967179954561, gamma=0.009718319944817394 ..................\n",
      "[LibSVM][CV] ... C=8.70967179954561, gamma=0.009718319944817394, total=  23.9s\n",
      "[CV] C=8.70967179954561, gamma=0.009718319944817394 ..................\n",
      "[LibSVM][CV] ... C=8.70967179954561, gamma=0.009718319944817394, total=  25.2s\n",
      "[CV] C=6.227328293819941, gamma=0.0071627869998973385 ................\n",
      "[LibSVM][CV] . C=6.227328293819941, gamma=0.0071627869998973385, total=  16.4s\n",
      "[CV] C=6.227328293819941, gamma=0.0071627869998973385 ................\n",
      "[LibSVM][CV] . C=6.227328293819941, gamma=0.0071627869998973385, total=  15.5s\n",
      "[CV] C=6.227328293819941, gamma=0.0071627869998973385 ................\n",
      "[LibSVM][CV] . C=6.227328293819941, gamma=0.0071627869998973385, total=  15.8s\n",
      "[CV] C=1.2541912674409519, gamma=0.0016435497475111322 ...............\n",
      "[LibSVM][CV]  C=1.2541912674409519, gamma=0.0016435497475111322, total=   6.1s\n",
      "[CV] C=1.2541912674409519, gamma=0.0016435497475111322 ...............\n",
      "[LibSVM][CV]  C=1.2541912674409519, gamma=0.0016435497475111322, total=   6.2s\n",
      "[CV] C=1.2541912674409519, gamma=0.0016435497475111322 ...............\n",
      "[LibSVM][CV]  C=1.2541912674409519, gamma=0.0016435497475111322, total=   6.3s\n",
      "[CV] C=1.3142918568673425, gamma=0.01874221098555569 .................\n",
      "[LibSVM][CV] .. C=1.3142918568673425, gamma=0.01874221098555569, total=   6.7s\n",
      "[CV] C=1.3142918568673425, gamma=0.01874221098555569 .................\n",
      "[LibSVM][CV] .. C=1.3142918568673425, gamma=0.01874221098555569, total=   6.4s\n",
      "[CV] C=1.3142918568673425, gamma=0.01874221098555569 .................\n",
      "[LibSVM][CV] .. C=1.3142918568673425, gamma=0.01874221098555569, total=   6.5s\n",
      "[CV] C=4.143559810763267, gamma=0.01040258761588384 ..................\n",
      "[LibSVM][CV] ... C=4.143559810763267, gamma=0.01040258761588384, total=  14.1s\n",
      "[CV] C=4.143559810763267, gamma=0.01040258761588384 ..................\n",
      "[LibSVM][CV] ... C=4.143559810763267, gamma=0.01040258761588384, total=  14.1s\n",
      "[CV] C=4.143559810763267, gamma=0.01040258761588384 ..................\n",
      "[LibSVM][CV] ... C=4.143559810763267, gamma=0.01040258761588384, total=  14.7s\n",
      "[CV] C=10.07566473926093, gamma=0.0031519872951938878 ................\n",
      "[LibSVM][CV] . C=10.07566473926093, gamma=0.0031519872951938878, total=  15.5s\n",
      "[CV] C=10.07566473926093, gamma=0.0031519872951938878 ................\n",
      "[LibSVM][CV] . C=10.07566473926093, gamma=0.0031519872951938878, total=  15.3s\n",
      "[CV] C=10.07566473926093, gamma=0.0031519872951938878 ................\n",
      "[LibSVM][CV] . C=10.07566473926093, gamma=0.0031519872951938878, total=  16.1s\n",
      "[CV] C=5.103829230356297, gamma=0.0324416008873416 ...................\n",
      "[LibSVM][CV] .... C=5.103829230356297, gamma=0.0324416008873416, total=  17.9s\n",
      "[CV] C=5.103829230356297, gamma=0.0324416008873416 ...................\n",
      "[LibSVM][CV] .... C=5.103829230356297, gamma=0.0324416008873416, total=  19.9s\n",
      "[CV] C=5.103829230356297, gamma=0.0324416008873416 ...................\n",
      "[LibSVM][CV] .... C=5.103829230356297, gamma=0.0324416008873416, total=  17.3s\n",
      "[CV] C=3.2879816549162246, gamma=0.0014254757044027432 ...............\n",
      "[LibSVM][CV]  C=3.2879816549162246, gamma=0.0014254757044027432, total=   7.5s\n",
      "[CV] C=3.2879816549162246, gamma=0.0014254757044027432 ...............\n",
      "[LibSVM][CV]  C=3.2879816549162246, gamma=0.0014254757044027432, total=   7.5s\n",
      "[CV] C=3.2879816549162246, gamma=0.0014254757044027432 ...............\n",
      "[LibSVM][CV]  C=3.2879816549162246, gamma=0.0014254757044027432, total=   7.5s\n",
      "[CV] C=3.8975145291376805, gamma=0.002101079931010355 ................\n",
      "[LibSVM][CV] . C=3.8975145291376805, gamma=0.002101079931010355, total=   8.1s\n",
      "[CV] C=3.8975145291376805, gamma=0.002101079931010355 ................\n"
     ]
    },
    {
     "name": "stdout",
     "output_type": "stream",
     "text": [
      "[LibSVM][CV] . C=3.8975145291376805, gamma=0.002101079931010355, total=   8.2s\n",
      "[CV] C=3.8975145291376805, gamma=0.002101079931010355 ................\n",
      "[LibSVM][CV] . C=3.8975145291376805, gamma=0.002101079931010355, total=   8.2s\n",
      "[CV] C=10.29697652342573, gamma=0.041327654594663636 .................\n",
      "[LibSVM][CV] .. C=10.29697652342573, gamma=0.041327654594663636, total=  18.2s\n",
      "[CV] C=10.29697652342573, gamma=0.041327654594663636 .................\n",
      "[LibSVM][CV] .. C=10.29697652342573, gamma=0.041327654594663636, total=  18.4s\n",
      "[CV] C=10.29697652342573, gamma=0.041327654594663636 .................\n",
      "[LibSVM][CV] .. C=10.29697652342573, gamma=0.041327654594663636, total=  18.1s\n",
      "[CV] C=7.334037565104235, gamma=0.05532496914298504 ..................\n",
      "[LibSVM][CV] ... C=7.334037565104235, gamma=0.05532496914298504, total=  15.1s\n",
      "[CV] C=7.334037565104235, gamma=0.05532496914298504 ..................\n",
      "[LibSVM][CV] ... C=7.334037565104235, gamma=0.05532496914298504, total=  15.2s\n",
      "[CV] C=7.334037565104235, gamma=0.05532496914298504 ..................\n",
      "[LibSVM][CV] ... C=7.334037565104235, gamma=0.05532496914298504, total=  15.5s\n",
      "[CV] C=9.036720768991145, gamma=0.0023612399244412603 ................\n",
      "[LibSVM][CV] . C=9.036720768991145, gamma=0.0023612399244412603, total=  13.0s\n",
      "[CV] C=9.036720768991145, gamma=0.0023612399244412603 ................\n",
      "[LibSVM][CV] . C=9.036720768991145, gamma=0.0023612399244412603, total=  13.1s\n",
      "[CV] C=9.036720768991145, gamma=0.0023612399244412603 ................\n",
      "[LibSVM][CV] . C=9.036720768991145, gamma=0.0023612399244412603, total=  13.4s\n",
      "[CV] C=9.925589984899778, gamma=0.011986281799901176 .................\n",
      "[LibSVM][CV] .. C=9.925589984899778, gamma=0.011986281799901176, total=  29.1s\n",
      "[CV] C=9.925589984899778, gamma=0.011986281799901176 .................\n",
      "[LibSVM][CV] .. C=9.925589984899778, gamma=0.011986281799901176, total=  27.5s\n",
      "[CV] C=9.925589984899778, gamma=0.011986281799901176 .................\n",
      "[LibSVM][CV] .. C=9.925589984899778, gamma=0.011986281799901176, total=  29.8s\n",
      "[CV] C=9.074401551640625, gamma=0.06197015748809141 ..................\n",
      "[LibSVM][CV] ... C=9.074401551640625, gamma=0.06197015748809141, total=  14.8s\n",
      "[CV] C=9.074401551640625, gamma=0.06197015748809141 ..................\n",
      "[LibSVM][CV] ... C=9.074401551640625, gamma=0.06197015748809141, total=  14.6s\n",
      "[CV] C=9.074401551640625, gamma=0.06197015748809141 ..................\n",
      "[LibSVM][CV] ... C=9.074401551640625, gamma=0.06197015748809141, total=  15.1s\n",
      "[CV] C=4.180034749718638, gamma=0.0016599837974449214 ................\n",
      "[LibSVM][CV] . C=4.180034749718638, gamma=0.0016599837974449214, total=   8.3s\n",
      "[CV] C=4.180034749718638, gamma=0.0016599837974449214 ................\n",
      "[LibSVM][CV] . C=4.180034749718638, gamma=0.0016599837974449214, total=   8.2s\n",
      "[CV] C=4.180034749718638, gamma=0.0016599837974449214 ................\n",
      "[LibSVM][CV] . C=4.180034749718638, gamma=0.0016599837974449214, total=   8.2s\n",
      "[CV] C=3.279351625419417, gamma=0.007148510793512982 .................\n",
      "[LibSVM][CV] .. C=3.279351625419417, gamma=0.007148510793512982, total=   9.5s\n",
      "[CV] C=3.279351625419417, gamma=0.007148510793512982 .................\n",
      "[LibSVM][CV] .. C=3.279351625419417, gamma=0.007148510793512982, total=   9.5s\n",
      "[CV] C=3.279351625419417, gamma=0.007148510793512982 .................\n",
      "[LibSVM][CV] .. C=3.279351625419417, gamma=0.007148510793512982, total=   9.8s\n",
      "[CV] C=9.18014765922493, gamma=0.05265761277157425 ...................\n",
      "[LibSVM][CV] .... C=9.18014765922493, gamma=0.05265761277157425, total=  24.1s\n",
      "[CV] C=9.18014765922493, gamma=0.05265761277157425 ...................\n",
      "[LibSVM][CV] .... C=9.18014765922493, gamma=0.05265761277157425, total=  21.9s\n",
      "[CV] C=9.18014765922493, gamma=0.05265761277157425 ...................\n",
      "[LibSVM][CV] .... C=9.18014765922493, gamma=0.05265761277157425, total=  19.2s\n",
      "[CV] C=1.069521305311907, gamma=0.010507384024181395 .................\n",
      "[LibSVM][CV] .. C=1.069521305311907, gamma=0.010507384024181395, total=   6.4s\n",
      "[CV] C=1.069521305311907, gamma=0.010507384024181395 .................\n",
      "[LibSVM][CV] .. C=1.069521305311907, gamma=0.010507384024181395, total=   6.7s\n",
      "[CV] C=1.069521305311907, gamma=0.010507384024181395 .................\n",
      "[LibSVM][CV] .. C=1.069521305311907, gamma=0.010507384024181395, total=   6.7s\n",
      "[CV] C=5.17411003148779, gamma=0.0027810936979265535 .................\n",
      "[LibSVM][CV] .. C=5.17411003148779, gamma=0.0027810936979265535, total=  10.2s\n",
      "[CV] C=5.17411003148779, gamma=0.0027810936979265535 .................\n",
      "[LibSVM][CV] .. C=5.17411003148779, gamma=0.0027810936979265535, total=  10.3s\n",
      "[CV] C=5.17411003148779, gamma=0.0027810936979265535 .................\n",
      "[LibSVM][CV] .. C=5.17411003148779, gamma=0.0027810936979265535, total=  10.2s\n",
      "[CV] C=2.1986536733368283, gamma=0.00473402277340419 .................\n",
      "[LibSVM][CV] .. C=2.1986536733368283, gamma=0.00473402277340419, total=   7.7s\n",
      "[CV] C=2.1986536733368283, gamma=0.00473402277340419 .................\n",
      "[LibSVM][CV] .. C=2.1986536733368283, gamma=0.00473402277340419, total=   9.5s\n",
      "[CV] C=2.1986536733368283, gamma=0.00473402277340419 .................\n",
      "[LibSVM][CV] .. C=2.1986536733368283, gamma=0.00473402277340419, total=   9.7s\n",
      "[CV] C=10.429097039125192, gamma=0.004430021806767982 ................\n",
      "[LibSVM][CV] . C=10.429097039125192, gamma=0.004430021806767982, total=  22.1s\n",
      "[CV] C=10.429097039125192, gamma=0.004430021806767982 ................\n",
      "[LibSVM][CV] . C=10.429097039125192, gamma=0.004430021806767982, total=  20.4s\n",
      "[CV] C=10.429097039125192, gamma=0.004430021806767982 ................\n",
      "[LibSVM][CV] . C=10.429097039125192, gamma=0.004430021806767982, total=  22.9s\n",
      "[CV] C=6.187906217433661, gamma=0.02547052623339116 ..................\n",
      "[LibSVM][CV] ... C=6.187906217433661, gamma=0.02547052623339116, total=  30.1s\n",
      "[CV] C=6.187906217433661, gamma=0.02547052623339116 ..................\n",
      "[LibSVM][CV] ... C=6.187906217433661, gamma=0.02547052623339116, total=  25.5s\n",
      "[CV] C=6.187906217433661, gamma=0.02547052623339116 ..................\n",
      "[LibSVM][CV] ... C=6.187906217433661, gamma=0.02547052623339116, total=  25.4s\n",
      "[CV] C=4.63629602379294, gamma=0.08781408196485974 ...................\n",
      "[LibSVM][CV] .... C=4.63629602379294, gamma=0.08781408196485974, total=  15.5s\n",
      "[CV] C=4.63629602379294, gamma=0.08781408196485974 ...................\n",
      "[LibSVM][CV] .... C=4.63629602379294, gamma=0.08781408196485974, total=  14.4s\n",
      "[CV] C=4.63629602379294, gamma=0.08781408196485974 ...................\n",
      "[LibSVM][CV] .... C=4.63629602379294, gamma=0.08781408196485974, total=  21.1s\n",
      "[CV] C=10.624472949421111, gamma=0.0031883397351001866 ...............\n",
      "[LibSVM][CV]  C=10.624472949421111, gamma=0.0031883397351001866, total=  20.9s\n",
      "[CV] C=10.624472949421111, gamma=0.0031883397351001866 ...............\n",
      "[LibSVM][CV]  C=10.624472949421111, gamma=0.0031883397351001866, total=  20.2s\n",
      "[CV] C=10.624472949421111, gamma=0.0031883397351001866 ...............\n",
      "[LibSVM][CV]  C=10.624472949421111, gamma=0.0031883397351001866, total=  17.2s\n",
      "[CV] C=5.972485058923855, gamma=0.003997206819121806 .................\n",
      "[LibSVM][CV] .. C=5.972485058923855, gamma=0.003997206819121806, total=  12.9s\n",
      "[CV] C=5.972485058923855, gamma=0.003997206819121806 .................\n",
      "[LibSVM][CV] .. C=5.972485058923855, gamma=0.003997206819121806, total=  14.5s\n",
      "[CV] C=5.972485058923855, gamma=0.003997206819121806 .................\n",
      "[LibSVM][CV] .. C=5.972485058923855, gamma=0.003997206819121806, total=  12.2s\n",
      "[CV] C=3.848404943774676, gamma=0.0011851515660043107 ................\n",
      "[LibSVM][CV] . C=3.848404943774676, gamma=0.0011851515660043107, total=   7.5s\n",
      "[CV] C=3.848404943774676, gamma=0.0011851515660043107 ................\n",
      "[LibSVM][CV] . C=3.848404943774676, gamma=0.0011851515660043107, total=   7.4s\n",
      "[CV] C=3.848404943774676, gamma=0.0011851515660043107 ................\n",
      "[LibSVM][CV] . C=3.848404943774676, gamma=0.0011851515660043107, total=   7.5s\n",
      "[CV] C=7.095643339798968, gamma=0.010124137770478634 .................\n",
      "[LibSVM][CV] .. C=7.095643339798968, gamma=0.010124137770478634, total=  21.5s\n",
      "[CV] C=7.095643339798968, gamma=0.010124137770478634 .................\n",
      "[LibSVM][CV] .. C=7.095643339798968, gamma=0.010124137770478634, total=  21.2s\n",
      "[CV] C=7.095643339798968, gamma=0.010124137770478634 .................\n"
     ]
    },
    {
     "name": "stdout",
     "output_type": "stream",
     "text": [
      "[LibSVM][CV] .. C=7.095643339798968, gamma=0.010124137770478634, total=  21.2s\n",
      "[CV] C=1.5147875124998935, gamma=0.0036082193273637856 ...............\n",
      "[LibSVM][CV]  C=1.5147875124998935, gamma=0.0036082193273637856, total=   8.0s\n",
      "[CV] C=1.5147875124998935, gamma=0.0036082193273637856 ...............\n",
      "[LibSVM][CV]  C=1.5147875124998935, gamma=0.0036082193273637856, total=   7.2s\n",
      "[CV] C=1.5147875124998935, gamma=0.0036082193273637856 ...............\n",
      "[LibSVM][CV]  C=1.5147875124998935, gamma=0.0036082193273637856, total=   7.3s\n",
      "[CV] C=10.082658859666537, gamma=0.0030138649046798005 ...............\n",
      "[LibSVM][CV]  C=10.082658859666537, gamma=0.0030138649046798005, total=  15.6s\n",
      "[CV] C=10.082658859666537, gamma=0.0030138649046798005 ...............\n",
      "[LibSVM][CV]  C=10.082658859666537, gamma=0.0030138649046798005, total=  15.0s\n",
      "[CV] C=10.082658859666537, gamma=0.0030138649046798005 ...............\n",
      "[LibSVM][CV]  C=10.082658859666537, gamma=0.0030138649046798005, total=  15.2s\n",
      "[CV] C=2.448948720912231, gamma=0.00952588908658077 ..................\n",
      "[LibSVM][CV] ... C=2.448948720912231, gamma=0.00952588908658077, total=   9.0s\n",
      "[CV] C=2.448948720912231, gamma=0.00952588908658077 ..................\n",
      "[LibSVM][CV] ... C=2.448948720912231, gamma=0.00952588908658077, total=   8.9s\n",
      "[CV] C=2.448948720912231, gamma=0.00952588908658077 ..................\n",
      "[LibSVM][CV] ... C=2.448948720912231, gamma=0.00952588908658077, total=   8.8s\n",
      "[CV] C=10.856504541106007, gamma=0.003048670883458067 ................\n",
      "[LibSVM][CV] . C=10.856504541106007, gamma=0.003048670883458067, total=  16.1s\n",
      "[CV] C=10.856504541106007, gamma=0.003048670883458067 ................\n",
      "[LibSVM][CV] . C=10.856504541106007, gamma=0.003048670883458067, total=  16.1s\n",
      "[CV] C=10.856504541106007, gamma=0.003048670883458067 ................\n",
      "[LibSVM][CV] . C=10.856504541106007, gamma=0.003048670883458067, total=  16.7s\n",
      "[CV] C=7.721355474058786, gamma=0.03336101309469783 ..................\n",
      "[LibSVM][CV] ... C=7.721355474058786, gamma=0.03336101309469783, total=  21.4s\n",
      "[CV] C=7.721355474058786, gamma=0.03336101309469783 ..................\n",
      "[LibSVM][CV] ... C=7.721355474058786, gamma=0.03336101309469783, total=  20.7s\n",
      "[CV] C=7.721355474058786, gamma=0.03336101309469783 ..................\n",
      "[LibSVM][CV] ... C=7.721355474058786, gamma=0.03336101309469783, total=  19.8s\n",
      "[CV] C=3.3763754399239967, gamma=0.028604390429824607 ................\n",
      "[LibSVM][CV] . C=3.3763754399239967, gamma=0.028604390429824607, total=  14.8s\n",
      "[CV] C=3.3763754399239967, gamma=0.028604390429824607 ................\n",
      "[LibSVM][CV] . C=3.3763754399239967, gamma=0.028604390429824607, total=  15.8s\n",
      "[CV] C=3.3763754399239967, gamma=0.028604390429824607 ................\n",
      "[LibSVM][CV] . C=3.3763754399239967, gamma=0.028604390429824607, total=  15.0s\n",
      "[CV] C=4.677831327192532, gamma=0.018391267498289007 .................\n",
      "[LibSVM][CV] .. C=4.677831327192532, gamma=0.018391267498289007, total=  19.4s\n",
      "[CV] C=4.677831327192532, gamma=0.018391267498289007 .................\n",
      "[LibSVM][CV] .. C=4.677831327192532, gamma=0.018391267498289007, total=  18.2s\n",
      "[CV] C=4.677831327192532, gamma=0.018391267498289007 .................\n",
      "[LibSVM][CV] .. C=4.677831327192532, gamma=0.018391267498289007, total=  19.2s\n",
      "[CV] C=7.335297107608947, gamma=0.011790965486776304 .................\n",
      "[LibSVM][CV] .. C=7.335297107608947, gamma=0.011790965486776304, total=  23.5s\n",
      "[CV] C=7.335297107608947, gamma=0.011790965486776304 .................\n",
      "[LibSVM][CV] .. C=7.335297107608947, gamma=0.011790965486776304, total=  22.5s\n",
      "[CV] C=7.335297107608947, gamma=0.011790965486776304 .................\n",
      "[LibSVM][CV] .. C=7.335297107608947, gamma=0.011790965486776304, total=  23.5s\n",
      "[CV] C=1.902897700544083, gamma=0.04683871708118727 ..................\n",
      "[LibSVM][CV] ... C=1.902897700544083, gamma=0.04683871708118727, total=  11.4s\n",
      "[CV] C=1.902897700544083, gamma=0.04683871708118727 ..................\n",
      "[LibSVM][CV] ... C=1.902897700544083, gamma=0.04683871708118727, total=  10.7s\n",
      "[CV] C=1.902897700544083, gamma=0.04683871708118727 ..................\n",
      "[LibSVM][CV] ... C=1.902897700544083, gamma=0.04683871708118727, total=  11.0s\n",
      "[CV] C=4.207800649717358, gamma=0.0023606794572813058 ................\n",
      "[LibSVM][CV] . C=4.207800649717358, gamma=0.0023606794572813058, total=   8.6s\n",
      "[CV] C=4.207800649717358, gamma=0.0023606794572813058 ................\n",
      "[LibSVM][CV] . C=4.207800649717358, gamma=0.0023606794572813058, total=   8.8s\n",
      "[CV] C=4.207800649717358, gamma=0.0023606794572813058 ................\n",
      "[LibSVM][CV] . C=4.207800649717358, gamma=0.0023606794572813058, total=   8.9s\n",
      "[CV] C=1.4077514155476392, gamma=0.015197980620034217 ................\n",
      "[LibSVM][CV] . C=1.4077514155476392, gamma=0.015197980620034217, total=   6.9s\n",
      "[CV] C=1.4077514155476392, gamma=0.015197980620034217 ................\n",
      "[LibSVM][CV] . C=1.4077514155476392, gamma=0.015197980620034217, total=   6.9s\n",
      "[CV] C=1.4077514155476392, gamma=0.015197980620034217 ................\n",
      "[LibSVM][CV] . C=1.4077514155476392, gamma=0.015197980620034217, total=   6.5s\n",
      "[CV] C=7.775643618422825, gamma=0.0010793832090127274 ................\n",
      "[LibSVM][CV] . C=7.775643618422825, gamma=0.0010793832090127274, total=   9.6s\n",
      "[CV] C=7.775643618422825, gamma=0.0010793832090127274 ................\n",
      "[LibSVM][CV] . C=7.775643618422825, gamma=0.0010793832090127274, total=   9.7s\n",
      "[CV] C=7.775643618422825, gamma=0.0010793832090127274 ................\n",
      "[LibSVM][CV] . C=7.775643618422825, gamma=0.0010793832090127274, total=   9.5s\n",
      "[CV] C=6.12093058299281, gamma=0.0028378638146176246 .................\n",
      "[LibSVM][CV] .. C=6.12093058299281, gamma=0.0028378638146176246, total=  12.0s\n",
      "[CV] C=6.12093058299281, gamma=0.0028378638146176246 .................\n",
      "[LibSVM][CV] .. C=6.12093058299281, gamma=0.0028378638146176246, total=  20.2s\n",
      "[CV] C=6.12093058299281, gamma=0.0028378638146176246 .................\n",
      "[LibSVM][CV] .. C=6.12093058299281, gamma=0.0028378638146176246, total=  18.9s\n",
      "[CV] C=7.451727904094499, gamma=0.0022321987366901567 ................\n",
      "[LibSVM][CV] . C=7.451727904094499, gamma=0.0022321987366901567, total=  19.8s\n",
      "[CV] C=7.451727904094499, gamma=0.0022321987366901567 ................\n",
      "[LibSVM][CV] . C=7.451727904094499, gamma=0.0022321987366901567, total=  20.5s\n",
      "[CV] C=7.451727904094499, gamma=0.0022321987366901567 ................\n",
      "[LibSVM][CV] . C=7.451727904094499, gamma=0.0022321987366901567, total=  18.4s\n",
      "[CV] C=7.90937738102466, gamma=0.0059356829120146845 .................\n",
      "[LibSVM][CV] .. C=7.90937738102466, gamma=0.0059356829120146845, total=  26.4s\n",
      "[CV] C=7.90937738102466, gamma=0.0059356829120146845 .................\n",
      "[LibSVM][CV] .. C=7.90937738102466, gamma=0.0059356829120146845, total=  26.1s\n",
      "[CV] C=7.90937738102466, gamma=0.0059356829120146845 .................\n",
      "[LibSVM][CV] .. C=7.90937738102466, gamma=0.0059356829120146845, total=  25.7s\n",
      "[CV] C=10.367299887367345, gamma=0.0018838307787619744 ...............\n",
      "[LibSVM][CV]  C=10.367299887367345, gamma=0.0018838307787619744, total=  22.9s\n",
      "[CV] C=10.367299887367345, gamma=0.0018838307787619744 ...............\n",
      "[LibSVM][CV]  C=10.367299887367345, gamma=0.0018838307787619744, total=  22.4s\n",
      "[CV] C=10.367299887367345, gamma=0.0018838307787619744 ...............\n",
      "[LibSVM][CV]  C=10.367299887367345, gamma=0.0018838307787619744, total=  20.1s\n",
      "[CV] C=4.4106635105025855, gamma=0.0016863473810115063 ...............\n",
      "[LibSVM][CV]  C=4.4106635105025855, gamma=0.0016863473810115063, total=  12.8s\n",
      "[CV] C=4.4106635105025855, gamma=0.0016863473810115063 ...............\n",
      "[LibSVM][CV]  C=4.4106635105025855, gamma=0.0016863473810115063, total=  12.8s\n",
      "[CV] C=4.4106635105025855, gamma=0.0016863473810115063 ...............\n",
      "[LibSVM][CV]  C=4.4106635105025855, gamma=0.0016863473810115063, total=  13.0s\n",
      "[CV] C=10.246936182785628, gamma=0.05684322462212269 .................\n",
      "[LibSVM][CV] .. C=10.246936182785628, gamma=0.05684322462212269, total=  28.8s\n",
      "[CV] C=10.246936182785628, gamma=0.05684322462212269 .................\n",
      "[LibSVM][CV] .. C=10.246936182785628, gamma=0.05684322462212269, total=  25.4s\n",
      "[CV] C=10.246936182785628, gamma=0.05684322462212269 .................\n",
      "[LibSVM][CV] .. C=10.246936182785628, gamma=0.05684322462212269, total=  26.1s\n",
      "[CV] C=3.579416277151556, gamma=0.020891426343856444 .................\n"
     ]
    },
    {
     "name": "stdout",
     "output_type": "stream",
     "text": [
      "[LibSVM][CV] .. C=3.579416277151556, gamma=0.020891426343856444, total=  25.3s\n",
      "[CV] C=3.579416277151556, gamma=0.020891426343856444 .................\n",
      "[LibSVM][CV] .. C=3.579416277151556, gamma=0.020891426343856444, total=  26.4s\n",
      "[CV] C=3.579416277151556, gamma=0.020891426343856444 .................\n",
      "[LibSVM][CV] .. C=3.579416277151556, gamma=0.020891426343856444, total=  28.0s\n",
      "[CV] C=9.172222002012159, gamma=0.012894414393074184 .................\n",
      "[LibSVM][CV] .. C=9.172222002012159, gamma=0.012894414393074184, total=  43.4s\n",
      "[CV] C=9.172222002012159, gamma=0.012894414393074184 .................\n",
      "[LibSVM][CV] .. C=9.172222002012159, gamma=0.012894414393074184, total=  42.9s\n",
      "[CV] C=9.172222002012159, gamma=0.012894414393074184 .................\n",
      "[LibSVM][CV] .. C=9.172222002012159, gamma=0.012894414393074184, total=  44.7s\n",
      "[CV] C=6.296505783560065, gamma=0.0030458224385894054 ................\n",
      "[LibSVM][CV] . C=6.296505783560065, gamma=0.0030458224385894054, total=  17.1s\n",
      "[CV] C=6.296505783560065, gamma=0.0030458224385894054 ................\n",
      "[LibSVM][CV] . C=6.296505783560065, gamma=0.0030458224385894054, total=  17.9s\n",
      "[CV] C=6.296505783560065, gamma=0.0030458224385894054 ................\n",
      "[LibSVM][CV] . C=6.296505783560065, gamma=0.0030458224385894054, total=  18.0s\n",
      "[CV] C=1.9310276780589921, gamma=0.06229189113188559 .................\n",
      "[LibSVM][CV] .. C=1.9310276780589921, gamma=0.06229189113188559, total=  19.4s\n",
      "[CV] C=1.9310276780589921, gamma=0.06229189113188559 .................\n",
      "[LibSVM][CV] .. C=1.9310276780589921, gamma=0.06229189113188559, total=  18.3s\n",
      "[CV] C=1.9310276780589921, gamma=0.06229189113188559 .................\n",
      "[LibSVM][CV] .. C=1.9310276780589921, gamma=0.06229189113188559, total=  19.2s\n",
      "[CV] C=10.004180571633304, gamma=0.01845877663478864 .................\n",
      "[LibSVM][CV] .. C=10.004180571633304, gamma=0.01845877663478864, total=  46.3s\n",
      "[CV] C=10.004180571633304, gamma=0.01845877663478864 .................\n",
      "[LibSVM][CV] .. C=10.004180571633304, gamma=0.01845877663478864, total=  45.6s\n",
      "[CV] C=10.004180571633304, gamma=0.01845877663478864 .................\n",
      "[LibSVM][CV] .. C=10.004180571633304, gamma=0.01845877663478864, total=  48.2s\n",
      "[CV] C=4.390297910487007, gamma=0.004993662066506421 .................\n",
      "[LibSVM][CV] .. C=4.390297910487007, gamma=0.004993662066506421, total=  15.9s\n",
      "[CV] C=4.390297910487007, gamma=0.004993662066506421 .................\n",
      "[LibSVM][CV] .. C=4.390297910487007, gamma=0.004993662066506421, total=  16.1s\n",
      "[CV] C=4.390297910487007, gamma=0.004993662066506421 .................\n",
      "[LibSVM][CV] .. C=4.390297910487007, gamma=0.004993662066506421, total=  16.5s\n",
      "[CV] C=8.259556788702394, gamma=0.0622616348236346 ...................\n",
      "[LibSVM][CV] .... C=8.259556788702394, gamma=0.0622616348236346, total=  23.4s\n",
      "[CV] C=8.259556788702394, gamma=0.0622616348236346 ...................\n",
      "[LibSVM][CV] .... C=8.259556788702394, gamma=0.0622616348236346, total=  24.9s\n",
      "[CV] C=8.259556788702394, gamma=0.0622616348236346 ...................\n",
      "[LibSVM][CV] .... C=8.259556788702394, gamma=0.0622616348236346, total=  25.6s\n",
      "[CV] C=9.870864242651173, gamma=0.036287002255540664 .................\n",
      "[LibSVM][CV] .. C=9.870864242651173, gamma=0.036287002255540664, total=  35.3s\n",
      "[CV] C=9.870864242651173, gamma=0.036287002255540664 .................\n",
      "[LibSVM][CV] .. C=9.870864242651173, gamma=0.036287002255540664, total=  34.5s\n",
      "[CV] C=9.870864242651173, gamma=0.036287002255540664 .................\n",
      "[LibSVM][CV] .. C=9.870864242651173, gamma=0.036287002255540664, total=  35.5s\n",
      "[LibSVM]"
     ]
    },
    {
     "name": "stderr",
     "output_type": "stream",
     "text": [
      "[Parallel(n_jobs=1)]: Done 300 out of 300 | elapsed: 84.5min finished\n"
     ]
    },
    {
     "data": {
      "text/plain": [
       "RandomizedSearchCV(cv=3, error_score='raise-deprecating',\n",
       "                   estimator=SVR(C=1.0, cache_size=200, coef0=0.0, degree=3,\n",
       "                                 epsilon=0.1, gamma='auto_deprecated',\n",
       "                                 kernel='rbf', max_iter=-1, shrinking=True,\n",
       "                                 tol=0.001, verbose=True),\n",
       "                   iid='warn', n_iter=100, n_jobs=None,\n",
       "                   param_distributions={'C': <scipy.stats._distn_infrastructure.rv_frozen object at 0x1a215c56d8>,\n",
       "                                        'gamma': <scipy.stats._distn_infrastructure.rv_frozen object at 0x1a2110aa58>},\n",
       "                   pre_dispatch='2*n_jobs', random_state=42, refit=True,\n",
       "                   return_train_score=False, scoring=None, verbose=2)"
      ]
     },
     "execution_count": 123,
     "metadata": {},
     "output_type": "execute_result"
    }
   ],
   "source": [
    "parms = {\n",
    "    \"gamma\": reciprocal(0.001, 0.1),\n",
    "    \"C\": uniform(1,10)\n",
    "}\n",
    "model = SVR(verbose=True, )\n",
    "\n",
    "lin_pipe = Pipeline([\n",
    "    (\"scaler\", StandardScaler()),\n",
    "    (\"regression_model\", model)        \n",
    "])\n",
    "\n",
    "random_search = RandomizedSearchCV(\n",
    "    model, param_distributions=parms, n_iter=100, cv=3, verbose=2, random_state=42, \n",
    ")\n",
    "\n",
    "random_search.fit(X_train, y_train)"
   ]
  },
  {
   "cell_type": "code",
   "execution_count": 124,
   "metadata": {
    "ExecuteTime": {
     "end_time": "2019-11-10T12:22:01.944614Z",
     "start_time": "2019-11-10T12:22:01.928545Z"
    }
   },
   "outputs": [
    {
     "data": {
      "text/plain": [
       "0.5737334974928159"
      ]
     },
     "execution_count": 124,
     "metadata": {},
     "output_type": "execute_result"
    }
   ],
   "source": [
    "random_search.best_score_"
   ]
  },
  {
   "cell_type": "code",
   "execution_count": 125,
   "metadata": {
    "ExecuteTime": {
     "end_time": "2019-11-10T12:22:03.086758Z",
     "start_time": "2019-11-10T12:22:03.078076Z"
    }
   },
   "outputs": [
    {
     "data": {
      "text/plain": [
       "SVR(C=8.712703466859457, cache_size=200, coef0=0.0, degree=3, epsilon=0.1,\n",
       "    gamma=0.001406336677771817, kernel='rbf', max_iter=-1, shrinking=True,\n",
       "    tol=0.001, verbose=True)"
      ]
     },
     "execution_count": 125,
     "metadata": {},
     "output_type": "execute_result"
    }
   ],
   "source": [
    "random_search.best_estimator_"
   ]
  },
  {
   "cell_type": "code",
   "execution_count": 126,
   "metadata": {
    "ExecuteTime": {
     "end_time": "2019-11-10T12:22:11.895039Z",
     "start_time": "2019-11-10T12:22:07.016755Z"
    }
   },
   "outputs": [
    {
     "data": {
      "text/plain": [
       "0.640419654901577"
      ]
     },
     "execution_count": 126,
     "metadata": {},
     "output_type": "execute_result"
    }
   ],
   "source": [
    "y_pred = random_search.best_estimator_.predict(X_train)\n",
    "rmse = np.sqrt(mean_squared_error(y_train, y_pred))\n",
    "rmse"
   ]
  },
  {
   "cell_type": "code",
   "execution_count": 127,
   "metadata": {
    "ExecuteTime": {
     "end_time": "2019-11-10T12:22:13.261322Z",
     "start_time": "2019-11-10T12:22:11.898802Z"
    }
   },
   "outputs": [
    {
     "data": {
      "text/plain": [
       "0.7286391814710281"
      ]
     },
     "execution_count": 127,
     "metadata": {},
     "output_type": "execute_result"
    }
   ],
   "source": [
    "y_pred = random_search.best_estimator_.predict(X_test)\n",
    "rmse = np.sqrt(mean_squared_error(y_test, y_pred))\n",
    "rmse"
   ]
  },
  {
   "cell_type": "code",
   "execution_count": null,
   "metadata": {},
   "outputs": [],
   "source": []
  }
 ],
 "metadata": {
  "kernelspec": {
   "display_name": "Python 3",
   "language": "python",
   "name": "python3"
  },
  "language_info": {
   "codemirror_mode": {
    "name": "ipython",
    "version": 3
   },
   "file_extension": ".py",
   "mimetype": "text/x-python",
   "name": "python",
   "nbconvert_exporter": "python",
   "pygments_lexer": "ipython3",
   "version": "3.6.8"
  }
 },
 "nbformat": 4,
 "nbformat_minor": 2
}
